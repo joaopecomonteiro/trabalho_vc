{
 "cells": [
  {
   "cell_type": "code",
   "id": "initial_id",
   "metadata": {
    "collapsed": true,
    "ExecuteTime": {
     "end_time": "2024-11-27T17:14:02.385499Z",
     "start_time": "2024-11-27T17:14:00.652415Z"
    }
   },
   "source": "import torch",
   "outputs": [],
   "execution_count": 1
  },
  {
   "metadata": {
    "ExecuteTime": {
     "end_time": "2024-11-27T17:55:00.780160Z",
     "start_time": "2024-11-27T17:55:00.775828Z"
    }
   },
   "cell_type": "code",
   "source": [
    "n_debris = 3\n",
    "\n",
    "tensor1 = torch.tensor([[10, 10, 20, 20],\n",
    "                        [30, 30, 40, 40],\n",
    "                        [50, 50, 60, 60]], dtype=torch.float32)\n",
    "\n",
    "tensor2 = torch.tensor([[35, 35, 45, 45],\n",
    "                        [55, 55, 65, 65],\n",
    "                        [12, 12, 22, 22]], dtype=torch.float32)\n"
   ],
   "id": "14ea1362e7e7c3b5",
   "outputs": [],
   "execution_count": 121
  },
  {
   "metadata": {
    "ExecuteTime": {
     "end_time": "2024-11-27T17:55:02.092951Z",
     "start_time": "2024-11-27T17:55:02.085508Z"
    }
   },
   "cell_type": "code",
   "source": [
    "distances = torch.cdist(tensor1, tensor2, p=2)\n",
    "#distances[1, 0] = 100\n",
    "distances"
   ],
   "id": "1ab7d65301a8ba1c",
   "outputs": [
    {
     "data": {
      "text/plain": [
       "tensor([[50., 90.,  4.],\n",
       "        [10., 50., 36.],\n",
       "        [30., 10., 76.]])"
      ]
     },
     "execution_count": 122,
     "metadata": {},
     "output_type": "execute_result"
    }
   ],
   "execution_count": 122
  },
  {
   "metadata": {
    "ExecuteTime": {
     "end_time": "2024-11-27T17:55:04.189076Z",
     "start_time": "2024-11-27T17:55:04.184983Z"
    }
   },
   "cell_type": "code",
   "source": [
    "compare_tensor1 = tensor1.clone()\n",
    "compare_tensor2 = tensor2.clone()\n",
    "pairs_tensors = []\n",
    "\n",
    "while compare_tensor1.shape[0] >= 1:\n",
    "\n",
    "    if compare_tensor1.shape[0] > 1:\n",
    "        \n",
    "        distances = torch.cdist(compare_tensor1, compare_tensor2, p=2)\n",
    "        \n",
    "        \n",
    "        row_idx, col_idx = divmod(torch.argmin(distances).item(), distances.size(1))\n",
    "        pairs_tensors.append((compare_tensor1[row_idx], compare_tensor2[col_idx]))\n",
    "        \n",
    "        compare_tensor1 = torch.cat((compare_tensor1[:row_idx], compare_tensor1[row_idx + 1:]))\n",
    "        compare_tensor2 = torch.cat((compare_tensor2[:col_idx], compare_tensor2[col_idx + 1:]))\n",
    "        \n",
    "    else:\n",
    "        pairs_tensors.append((compare_tensor1, compare_tensor2))\n",
    "        break"
   ],
   "id": "c6d82c1b09a13604",
   "outputs": [],
   "execution_count": 123
  },
  {
   "metadata": {
    "ExecuteTime": {
     "end_time": "2024-11-27T17:55:05.511698Z",
     "start_time": "2024-11-27T17:55:05.506944Z"
    }
   },
   "cell_type": "code",
   "source": "tensor1, tensor2\n",
   "id": "788b3d7f23da5507",
   "outputs": [
    {
     "data": {
      "text/plain": [
       "(tensor([[10., 10., 20., 20.],\n",
       "         [30., 30., 40., 40.],\n",
       "         [50., 50., 60., 60.]]),\n",
       " tensor([[35., 35., 45., 45.],\n",
       "         [55., 55., 65., 65.],\n",
       "         [12., 12., 22., 22.]]))"
      ]
     },
     "execution_count": 124,
     "metadata": {},
     "output_type": "execute_result"
    }
   ],
   "execution_count": 124
  },
  {
   "metadata": {
    "ExecuteTime": {
     "end_time": "2024-11-27T17:55:06.698408Z",
     "start_time": "2024-11-27T17:55:06.692201Z"
    }
   },
   "cell_type": "code",
   "source": "pairs_tensors",
   "id": "5e8bed345ee5df89",
   "outputs": [
    {
     "data": {
      "text/plain": [
       "[(tensor([10., 10., 20., 20.]), tensor([12., 12., 22., 22.])),\n",
       " (tensor([30., 30., 40., 40.]), tensor([35., 35., 45., 45.])),\n",
       " (tensor([[50., 50., 60., 60.]]), tensor([[55., 55., 65., 65.]]))]"
      ]
     },
     "execution_count": 125,
     "metadata": {},
     "output_type": "execute_result"
    }
   ],
   "execution_count": 125
  },
  {
   "metadata": {},
   "cell_type": "code",
   "outputs": [],
   "execution_count": null,
   "source": [
    "\n",
    "max = 0\n",
    "max_row = 0\n",
    "max_col = 0\n",
    "\n",
    "for row in range(distances.shape[0]):\n",
    "    for col in range(distances.shape[1]):\n",
    "        if distances[row, col] > max:\n",
    "            max = distances[row, col]\n",
    "            max_row = row\n",
    "            max_col = col\n",
    "max_index = (max_row, max_col)\n",
    "    "
   ],
   "id": "588993522c0a72bc"
  },
  {
   "metadata": {
    "ExecuteTime": {
     "end_time": "2024-11-27T17:15:05.736932Z",
     "start_time": "2024-11-27T17:15:05.734597Z"
    }
   },
   "cell_type": "code",
   "source": [
    "paired_indices = []\n",
    "used_rows = set()\n",
    "used_cols = set()"
   ],
   "id": "2f3083deeefe39d2",
   "outputs": [],
   "execution_count": 4
  },
  {
   "metadata": {
    "ExecuteTime": {
     "end_time": "2024-11-27T17:15:11.930916Z",
     "start_time": "2024-11-27T17:15:11.925349Z"
    }
   },
   "cell_type": "code",
   "source": [
    "for _ in range(n):\n",
    "    # Find the minimum distance and corresponding indices\n",
    "    min_val, min_idx = torch.min(distances, dim=1)  # Min per row\n",
    "    row_idx = torch.argmin(min_val).item()\n",
    "    col_idx = min_idx[row_idx].item()\n",
    "\n",
    "    # Record the pair\n",
    "    paired_indices.append((row_idx, col_idx))\n",
    "    used_rows.add(row_idx)\n",
    "    used_cols.add(col_idx)\n",
    "\n",
    "    # Mask out the used row and column to avoid reuse\n",
    "    distances[row_idx, :] = float('inf')\n",
    "    distances[:, col_idx] = float('inf')"
   ],
   "id": "c9d11977452fe08b",
   "outputs": [],
   "execution_count": 5
  },
  {
   "metadata": {
    "ExecuteTime": {
     "end_time": "2024-11-27T17:15:17.347513Z",
     "start_time": "2024-11-27T17:15:17.345155Z"
    }
   },
   "cell_type": "code",
   "source": [
    "paired_tensor1 = torch.stack([tensor1[row] for row, _ in paired_indices])\n",
    "paired_tensor2 = torch.stack([tensor2[col] for _, col in paired_indices])\n"
   ],
   "id": "f609115ff6eefd57",
   "outputs": [],
   "execution_count": 6
  },
  {
   "metadata": {
    "ExecuteTime": {
     "end_time": "2024-11-27T17:15:39.906975Z",
     "start_time": "2024-11-27T17:15:39.900020Z"
    }
   },
   "cell_type": "code",
   "source": "tensor1, tensor2",
   "id": "28430311d9d68025",
   "outputs": [
    {
     "data": {
      "text/plain": [
       "(tensor([[0.7587, 0.3375, 0.3928, 0.5462],\n",
       "         [0.9204, 0.5924, 0.9057, 0.1996]]),\n",
       " tensor([[0.8186, 0.0626, 0.8658, 0.8821],\n",
       "         [0.7791, 0.5983, 0.4437, 0.5704]]))"
      ]
     },
     "execution_count": 9,
     "metadata": {},
     "output_type": "execute_result"
    }
   ],
   "execution_count": 9
  },
  {
   "metadata": {
    "ExecuteTime": {
     "end_time": "2024-11-27T17:15:20.326161Z",
     "start_time": "2024-11-27T17:15:20.318748Z"
    }
   },
   "cell_type": "code",
   "source": "paired_tensor1",
   "id": "1a29e9ef4436fd17",
   "outputs": [
    {
     "data": {
      "text/plain": [
       "tensor([[0.7587, 0.3375, 0.3928, 0.5462],\n",
       "        [0.9204, 0.5924, 0.9057, 0.1996]])"
      ]
     },
     "execution_count": 7,
     "metadata": {},
     "output_type": "execute_result"
    }
   ],
   "execution_count": 7
  },
  {
   "metadata": {
    "ExecuteTime": {
     "end_time": "2024-11-27T17:15:24.441716Z",
     "start_time": "2024-11-27T17:15:24.437288Z"
    }
   },
   "cell_type": "code",
   "source": "paired_tensor2",
   "id": "14a22e3d7f65dcfc",
   "outputs": [
    {
     "data": {
      "text/plain": [
       "tensor([[0.7791, 0.5983, 0.4437, 0.5704],\n",
       "        [0.8186, 0.0626, 0.8658, 0.8821]])"
      ]
     },
     "execution_count": 8,
     "metadata": {},
     "output_type": "execute_result"
    }
   ],
   "execution_count": 8
  },
  {
   "metadata": {},
   "cell_type": "code",
   "outputs": [],
   "execution_count": null,
   "source": "",
   "id": "c0e5971c09620e03"
  },
  {
   "metadata": {
    "ExecuteTime": {
     "end_time": "2024-11-27T17:16:34.337486Z",
     "start_time": "2024-11-27T17:16:34.197141Z"
    }
   },
   "cell_type": "code",
   "source": [
    "from scipy.optimize import linear_sum_assignment\n",
    "\n",
    "# Step 1: Compute pairwise distances\n",
    "distances = torch.cdist(tensor1, tensor2, p=2).numpy()  # Convert to NumPy\n",
    "\n",
    "# Step 2: Solve assignment problem\n",
    "row_indices, col_indices = linear_sum_assignment(distances)\n",
    "\n",
    "# Step 3: Pair tensors based on assignment\n",
    "paired_tensor1 = tensor1[row_indices]\n",
    "paired_tensor2 = tensor2[col_indices]\n",
    "\n",
    "# Print results\n",
    "print(\"Tensor 1 paired rows:\\n\", paired_tensor1)\n",
    "print(\"Tensor 2 paired rows:\\n\", paired_tensor2)"
   ],
   "id": "df9598b0bc991546",
   "outputs": [
    {
     "name": "stdout",
     "output_type": "stream",
     "text": [
      "Tensor 1 paired rows:\n",
      " tensor([[0.7587, 0.3375, 0.3928, 0.5462],\n",
      "        [0.9204, 0.5924, 0.9057, 0.1996]])\n",
      "Tensor 2 paired rows:\n",
      " tensor([[0.7791, 0.5983, 0.4437, 0.5704],\n",
      "        [0.8186, 0.0626, 0.8658, 0.8821]])\n"
     ]
    }
   ],
   "execution_count": 10
  },
  {
   "metadata": {},
   "cell_type": "code",
   "outputs": [],
   "execution_count": null,
   "source": "",
   "id": "547e4dc52536a755"
  }
 ],
 "metadata": {
  "kernelspec": {
   "display_name": "Python 3",
   "language": "python",
   "name": "python3"
  },
  "language_info": {
   "codemirror_mode": {
    "name": "ipython",
    "version": 2
   },
   "file_extension": ".py",
   "mimetype": "text/x-python",
   "name": "python",
   "nbconvert_exporter": "python",
   "pygments_lexer": "ipython2",
   "version": "2.7.6"
  }
 },
 "nbformat": 4,
 "nbformat_minor": 5
}
